{
 "cells": [
  {
   "cell_type": "code",
   "execution_count": 1,
   "id": "5411a357-b5ae-47d9-8b22-47d7bf6487b3",
   "metadata": {},
   "outputs": [
    {
     "name": "stdout",
     "output_type": "stream",
     "text": [
      "0     4\n",
      "1     8\n",
      "2    15\n",
      "3    16\n",
      "4    23\n",
      "5    42\n",
      "dtype: int64\n"
     ]
    }
   ],
   "source": [
    "#Q1. Create a Pandas Series that contains the following data: 4, 8, 15, 16, 23, and 42. Then, print the series.\n",
    "import pandas as pd\n",
    "\n",
    "# Create the series\n",
    "data = [4, 8, 15, 16, 23, 42]\n",
    "my_series = pd.Series(data)\n",
    "\n",
    "# Print the series\n",
    "print(my_series)"
   ]
  },
  {
   "cell_type": "code",
   "execution_count": 2,
   "id": "735f6745-bac5-443c-a15e-9f15a3157292",
   "metadata": {},
   "outputs": [
    {
     "name": "stdout",
     "output_type": "stream",
     "text": [
      "0     2\n",
      "1     4\n",
      "2     6\n",
      "3     8\n",
      "4    10\n",
      "5    12\n",
      "6    14\n",
      "7    16\n",
      "8    18\n",
      "9    20\n",
      "dtype: int64\n"
     ]
    }
   ],
   "source": [
    "#Q2. Create a variable of list type containing 10 elements in it, and apply pandas.Series function on the\n",
    "variable print it.\n",
    "my_list = [2, 4, 6, 8, 10, 12, 14, 16, 18, 20]\n",
    "\n",
    "# Convert the list to a Pandas series\n",
    "my_series = pd.Series(my_list)\n",
    "\n",
    "# Print the series\n",
    "print(my_series)"
   ]
  },
  {
   "cell_type": "code",
   "execution_count": 3,
   "id": "44139da3-322f-448d-93cf-8ff44542bba1",
   "metadata": {},
   "outputs": [
    {
     "name": "stdout",
     "output_type": "stream",
     "text": [
      "     Name  Age Gender\n",
      "0   Alice   25      F\n",
      "1     Bob   30      M\n",
      "2  Claire   27      F\n"
     ]
    }
   ],
   "source": [
    "#ans 3 \n",
    "data = {'Name': ['Alice', 'Bob', 'Claire'],\n",
    "        'Age': [25, 30, 27],\n",
    "        'Gender': ['F', 'M','F' ]}\n",
    "df = pd.DataFrame(data)\n",
    "\n",
    "# Print the DataFrame\n",
    "print(df)"
   ]
  },
  {
   "cell_type": "code",
   "execution_count": 4,
   "id": "2b68034d-6739-474f-ad47-703813658780",
   "metadata": {},
   "outputs": [
    {
     "name": "stdout",
     "output_type": "stream",
     "text": [
      "Pandas Series:\n",
      " 0    1\n",
      "1    2\n",
      "2    3\n",
      "3    4\n",
      "4    5\n",
      "dtype: int64\n",
      "\n",
      "DataFrame:\n",
      "       Name  Age Gender\n",
      "0    Alice   25      F\n",
      "1      Bob   30      M\n",
      "2  Charlie   35      M\n"
     ]
    }
   ],
   "source": [
    "'''Q4. What is ‘DataFrame’ in pandas and how is it different from pandas.series? Explain with an example.'''\n",
    "'''In Pandas, a DataFrame is a two-dimensional labeled data structure with columns of potentially different \n",
    "data types. It is similar to a spreadsheet or a SQL table. A Pandas DataFrame can be thought of as a \n",
    "collection of Pandas Series, where each Series represents a column of the DataFrame.\n",
    "\n",
    "A Pandas Series, on the other hand, is a one-dimensional labeled data structure that can hold any data\n",
    "type. It can be thought of as a single column of a DataFrame'''\n",
    "\n",
    "\n",
    "\n",
    "# Create a Pandas Series\n",
    "s = pd.Series([1, 2, 3, 4, 5])\n",
    "\n",
    "# Create a DataFrame\n",
    "data = {'Name': ['Alice', 'Bob', 'Charlie'],\n",
    "        'Age': [25, 30, 35],\n",
    "        'Gender': ['F', 'M', 'M']}\n",
    "df = pd.DataFrame(data)\n",
    "\n",
    "# Print the Series and DataFrame\n",
    "print(\"Pandas Series:\\n\", s)\n",
    "print(\"\\nDataFrame:\\n\", df)\n",
    "\n",
    "\n"
   ]
  },
  {
   "cell_type": "code",
   "execution_count": null,
   "id": "39fc593b-342e-4a9a-a418-15d36d4ac18b",
   "metadata": {},
   "outputs": [],
   "source": [
    "'''Q5. What are some common functions you can use to manipulate data in a Pandas DataFrame? Can\n",
    "you give an example of when you might use one of these functions?'''\n",
    "\n",
    "'''Pandas provides a wide range of functions to manipulate and transform data in a DataFrame. \n",
    "Some of the most common functions used to manipulate data in a Pandas DataFrame include:\n",
    "\n",
    "head(): Returns the first n rows of the DataFrame. This is useful to quickly check the\n",
    "contents of the DataFrame. For example, df.head() returns the first five rows of the DataFrame df.\n",
    "\n",
    "tail(): Returns the last n rows of the DataFrame. This is useful to quickly check the end of\n",
    "the DataFrame. For example, df.tail() returns the last five rows of the DataFrame df.'''\n",
    "\n"
   ]
  },
  {
   "cell_type": "code",
   "execution_count": null,
   "id": "3767d818-9f74-46a9-9d0a-c46a02732bd1",
   "metadata": {},
   "outputs": [],
   "source": [
    "'''Q6. Which of the following is mutable in nature Series, DataFrame, Panel?''''\n",
    "\n",
    "'''Both Series and DataFrame are mutable in nature, while Panel is not.'''\n"
   ]
  },
  {
   "cell_type": "code",
   "execution_count": 6,
   "id": "cdf654ce-6c5d-4ae3-9ad1-20336c974242",
   "metadata": {},
   "outputs": [
    {
     "name": "stdout",
     "output_type": "stream",
     "text": [
      "      Name  Age  Salary\n",
      "0    Alice   25   50000\n",
      "1      Bob   30   70000\n",
      "2  Charlie   35   60000\n"
     ]
    }
   ],
   "source": [
    "'''Q7. Create a DataFrame using multiple Series. Explain with an example.'''\n",
    "\n",
    "\n",
    "# create three Series\n",
    "names = pd.Series(['Alice', 'Bob', 'Charlie'])\n",
    "ages = pd.Series([25, 30, 35])\n",
    "salaries = pd.Series([50000, 70000, 60000])\n",
    "\n",
    "# create a DataFrame from the Series\n",
    "data = {'Name': names, 'Age': ages, 'Salary': salaries}\n",
    "df = pd.DataFrame(data)\n",
    "\n",
    "# print the DataFrame\n",
    "print(df)\n",
    "\n",
    "\n"
   ]
  },
  {
   "cell_type": "code",
   "execution_count": null,
   "id": "31051202-3b24-4a4e-b060-1436b970ebec",
   "metadata": {},
   "outputs": [],
   "source": []
  }
 ],
 "metadata": {
  "kernelspec": {
   "display_name": "Python 3 (ipykernel)",
   "language": "python",
   "name": "python3"
  },
  "language_info": {
   "codemirror_mode": {
    "name": "ipython",
    "version": 3
   },
   "file_extension": ".py",
   "mimetype": "text/x-python",
   "name": "python",
   "nbconvert_exporter": "python",
   "pygments_lexer": "ipython3",
   "version": "3.10.8"
  }
 },
 "nbformat": 4,
 "nbformat_minor": 5
}
